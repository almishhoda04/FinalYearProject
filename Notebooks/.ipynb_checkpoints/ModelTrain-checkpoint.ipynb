{
 "cells": [
  {
   "cell_type": "code",
   "execution_count": 28,
   "id": "10bd31b0-aa08-4173-b303-8b217dd8093e",
   "metadata": {},
   "outputs": [
    {
     "data": {
      "text/html": [
       "<div>\n",
       "<style scoped>\n",
       "    .dataframe tbody tr th:only-of-type {\n",
       "        vertical-align: middle;\n",
       "    }\n",
       "\n",
       "    .dataframe tbody tr th {\n",
       "        vertical-align: top;\n",
       "    }\n",
       "\n",
       "    .dataframe thead th {\n",
       "        text-align: right;\n",
       "    }\n",
       "</style>\n",
       "<table border=\"1\" class=\"dataframe\">\n",
       "  <thead>\n",
       "    <tr style=\"text-align: right;\">\n",
       "      <th></th>\n",
       "      <th>Age of the patient</th>\n",
       "      <th>Total Bilirubin</th>\n",
       "      <th>Direct Bilirubin</th>\n",
       "      <th>Alkphos Alkaline Phosphotase</th>\n",
       "      <th>Sgpt Alamine Aminotransferase</th>\n",
       "      <th>Sgot Aspartate Aminotransferase</th>\n",
       "      <th>Total Protiens</th>\n",
       "      <th>ALB Albumin</th>\n",
       "      <th>A/G Ratio Albumin and Globulin Ratio</th>\n",
       "      <th>Result</th>\n",
       "      <th>Gender</th>\n",
       "    </tr>\n",
       "  </thead>\n",
       "  <tbody>\n",
       "    <tr>\n",
       "      <th>0</th>\n",
       "      <td>1.307409</td>\n",
       "      <td>-0.422734</td>\n",
       "      <td>-0.493546</td>\n",
       "      <td>-0.424147</td>\n",
       "      <td>-0.357995</td>\n",
       "      <td>-0.331444</td>\n",
       "      <td>0.296085</td>\n",
       "      <td>0.216756</td>\n",
       "      <td>-0.133255</td>\n",
       "      <td>1</td>\n",
       "      <td>-1.712668</td>\n",
       "    </tr>\n",
       "    <tr>\n",
       "      <th>1</th>\n",
       "      <td>1.119677</td>\n",
       "      <td>1.222852</td>\n",
       "      <td>1.402554</td>\n",
       "      <td>1.747518</td>\n",
       "      <td>-0.092296</td>\n",
       "      <td>-0.037383</td>\n",
       "      <td>0.947933</td>\n",
       "      <td>0.089509</td>\n",
       "      <td>-0.632858</td>\n",
       "      <td>1</td>\n",
       "      <td>0.583884</td>\n",
       "    </tr>\n",
       "    <tr>\n",
       "      <th>2</th>\n",
       "      <td>1.119677</td>\n",
       "      <td>0.642057</td>\n",
       "      <td>0.910972</td>\n",
       "      <td>0.861038</td>\n",
       "      <td>-0.114437</td>\n",
       "      <td>-0.152138</td>\n",
       "      <td>0.482327</td>\n",
       "      <td>0.216756</td>\n",
       "      <td>-0.164481</td>\n",
       "      <td>1</td>\n",
       "      <td>0.583884</td>\n",
       "    </tr>\n",
       "    <tr>\n",
       "      <th>3</th>\n",
       "      <td>0.869368</td>\n",
       "      <td>-0.374334</td>\n",
       "      <td>-0.388207</td>\n",
       "      <td>-0.445355</td>\n",
       "      <td>-0.369066</td>\n",
       "      <td>-0.324272</td>\n",
       "      <td>0.296085</td>\n",
       "      <td>0.344002</td>\n",
       "      <td>0.178996</td>\n",
       "      <td>1</td>\n",
       "      <td>0.583884</td>\n",
       "    </tr>\n",
       "    <tr>\n",
       "      <th>4</th>\n",
       "      <td>1.745449</td>\n",
       "      <td>0.093528</td>\n",
       "      <td>0.173600</td>\n",
       "      <td>-0.390215</td>\n",
       "      <td>-0.297106</td>\n",
       "      <td>-0.184413</td>\n",
       "      <td>0.761691</td>\n",
       "      <td>-0.928464</td>\n",
       "      <td>-1.694512</td>\n",
       "      <td>1</td>\n",
       "      <td>0.583884</td>\n",
       "    </tr>\n",
       "  </tbody>\n",
       "</table>\n",
       "</div>"
      ],
      "text/plain": [
       "   Age of the patient  Total Bilirubin  Direct Bilirubin  \\\n",
       "0            1.307409        -0.422734         -0.493546   \n",
       "1            1.119677         1.222852          1.402554   \n",
       "2            1.119677         0.642057          0.910972   \n",
       "3            0.869368        -0.374334         -0.388207   \n",
       "4            1.745449         0.093528          0.173600   \n",
       "\n",
       "    Alkphos Alkaline Phosphotase   Sgpt Alamine Aminotransferase  \\\n",
       "0                      -0.424147                       -0.357995   \n",
       "1                       1.747518                       -0.092296   \n",
       "2                       0.861038                       -0.114437   \n",
       "3                      -0.445355                       -0.369066   \n",
       "4                      -0.390215                       -0.297106   \n",
       "\n",
       "   Sgot Aspartate Aminotransferase  Total Protiens   ALB Albumin  \\\n",
       "0                        -0.331444        0.296085      0.216756   \n",
       "1                        -0.037383        0.947933      0.089509   \n",
       "2                        -0.152138        0.482327      0.216756   \n",
       "3                        -0.324272        0.296085      0.344002   \n",
       "4                        -0.184413        0.761691     -0.928464   \n",
       "\n",
       "   A/G Ratio Albumin and Globulin Ratio  Result    Gender  \n",
       "0                             -0.133255       1 -1.712668  \n",
       "1                             -0.632858       1  0.583884  \n",
       "2                             -0.164481       1  0.583884  \n",
       "3                              0.178996       1  0.583884  \n",
       "4                             -1.694512       1  0.583884  "
      ]
     },
     "execution_count": 28,
     "metadata": {},
     "output_type": "execute_result"
    }
   ],
   "source": [
    "import pandas as pd\n",
    "import seaborn as sns\n",
    "\n",
    "df = pd.read_csv('../Datasets/preprocessed_liver_data.csv')\n",
    "df.head()"
   ]
  },
  {
   "cell_type": "code",
   "execution_count": 29,
   "id": "2ce26352-3e6d-4f1a-857b-915d35828408",
   "metadata": {},
   "outputs": [],
   "source": [
    "from sklearn.model_selection import train_test_split\n",
    "\n",
    "X = df.drop('Result', axis=1) \n",
    "y = df['Result']\n",
    "\n",
    "X_train, X_test, y_train, y_test = train_test_split(X, y, test_size=0.2, random_state=42, stratify=y)"
   ]
  },
  {
   "cell_type": "markdown",
   "id": "40dd6cf6-6390-4cdd-9cdf-ef3e3f368b7e",
   "metadata": {},
   "source": [
    "# Training Random Forest Classifier"
   ]
  },
  {
   "cell_type": "code",
   "execution_count": 30,
   "id": "73091fa1-2dc7-475a-93a0-72f1eb6dbbe4",
   "metadata": {},
   "outputs": [
    {
     "name": "stdout",
     "output_type": "stream",
     "text": [
      "Random Forest Accuracy: 0.9982081772275615\n",
      "              precision    recall  f1-score   support\n",
      "\n",
      "           0       1.00      1.00      1.00      1755\n",
      "           1       1.00      1.00      1.00      4384\n",
      "\n",
      "    accuracy                           1.00      6139\n",
      "   macro avg       1.00      1.00      1.00      6139\n",
      "weighted avg       1.00      1.00      1.00      6139\n",
      "\n",
      "\n",
      "Confusion Matrix (Random Forest):\n",
      " [[1747    8]\n",
      " [   3 4381]]\n"
     ]
    }
   ],
   "source": [
    "from sklearn.ensemble import RandomForestClassifier\n",
    "from sklearn.metrics import accuracy_score, classification_report, confusion_matrix\n",
    "\n",
    "rf = RandomForestClassifier(random_state=42)\n",
    "rf.fit(X_train, y_train)\n",
    "\n",
    "y_pred_rf = rf.predict(X_test)\n",
    "\n",
    "print(\"Random Forest Accuracy:\", accuracy_score(y_test, y_pred_rf))\n",
    "print(classification_report(y_test, y_pred_rf))\n",
    "print(\"\\nConfusion Matrix (Random Forest):\\n\", confusion_matrix(y_test, y_pred_rf))"
   ]
  },
  {
   "cell_type": "code",
   "execution_count": 31,
   "id": "9d4d5875-fc9f-404e-a567-8da1fa3a3911",
   "metadata": {},
   "outputs": [
    {
     "data": {
      "text/plain": [
       "<Axes: >"
      ]
     },
     "execution_count": 31,
     "metadata": {},
     "output_type": "execute_result"
    },
    {
     "data": {
      "image/png": "[encoded data removed]",
      "text/plain": [
       "<Figure size 640x480 with 2 Axes>"
      ]
     },
     "metadata": {},
     "output_type": "display_data"
    }
   ],
   "source": [
    "sns.heatmap(confusion_matrix(y_test,y_pred_rf),annot=True,fmt=\"d\")"
   ]
  },
  {
   "cell_type": "markdown",
   "id": "70ac1dd9-27cf-43e9-a725-0db54cbcc3ef",
   "metadata": {},
   "source": [
    "# Training XGBoost Classifier"
   ]
  },
  {
   "cell_type": "code",
   "execution_count": 32,
   "id": "e14290e7-7228-45fa-b379-9e852af6fc6c",
   "metadata": {},
   "outputs": [
    {
     "name": "stdout",
     "output_type": "stream",
     "text": [
      "XGBoost Accuracy: 0.9975566053103111\n",
      "\n",
      "Classification Report (XGBoost):\n",
      "               precision    recall  f1-score   support\n",
      "\n",
      "           0       0.99      1.00      1.00      1755\n",
      "           1       1.00      1.00      1.00      4384\n",
      "\n",
      "    accuracy                           1.00      6139\n",
      "   macro avg       1.00      1.00      1.00      6139\n",
      "weighted avg       1.00      1.00      1.00      6139\n",
      "\n",
      "\n",
      "Confusion Matrix (XGBoost):\n",
      " [[1751    4]\n",
      " [  11 4373]]\n"
     ]
    }
   ],
   "source": [
    "from xgboost import XGBClassifier\n",
    "\n",
    "xgb = XGBClassifier(random_state=42, eval_metric='logloss')\n",
    "xgb.fit(X_train, y_train)\n",
    "\n",
    "y_pred_xgb = xgb.predict(X_test)\n",
    "\n",
    "print(\"XGBoost Accuracy:\", accuracy_score(y_test, y_pred_xgb))\n",
    "print(\"\\nClassification Report (XGBoost):\\n\", classification_report(y_test, y_pred_xgb))\n",
    "print(\"\\nConfusion Matrix (XGBoost):\\n\", confusion_matrix(y_test, y_pred_xgb))"
   ]
  },
  {
   "cell_type": "code",
   "execution_count": 33,
   "id": "0d381888-217d-465d-9c92-0038c2be34d8",
   "metadata": {},
   "outputs": [
    {
     "data": {
      "text/plain": [
       "<Axes: >"
      ]
     },
     "execution_count": 33,
     "metadata": {},
     "output_type": "execute_result"
    },
    {
     "data": {
      "image/png": "[encoded data removed]",
      "text/plain": [
       "<Figure size 640x480 with 2 Axes>"
      ]
     },
     "metadata": {},
     "output_type": "display_data"
    }
   ],
   "source": [
    "sns.heatmap(confusion_matrix(y_test,y_pred_xgb),annot=True,fmt=\"d\")"
   ]
  },
  {
   "cell_type": "markdown",
   "id": "9a56e46f-c22d-44f2-8274-2dfa06f73fcc",
   "metadata": {},
   "source": [
    "# Tuning Hyperparameters"
   ]
  },
  {
   "cell_type": "code",
   "execution_count": null,
   "id": "821fe8dc-9f6c-4904-88c6-ed3a6bf6c809",
   "metadata": {},
   "outputs": [
    {
     "name": "stdout",
     "output_type": "stream",
     "text": [
      "Fitting 5 folds for each of 108 candidates, totalling 540 fits\n"
     ]
    }
   ],
   "source": [
    "from xgboost import XGBClassifier\n",
    "from sklearn.model_selection import GridSearchCV\n",
    "\n",
    "params = {\n",
    "    'n_estimators': [100, 200, 300],\n",
    "    'max_depth': [3, 4, 5],\n",
    "    'learning_rate': [0.01, 0.05, 0.1],\n",
    "    'subsample': [0.8, 1.0],\n",
    "    'colsample_bytree': [0.8, 1.0]\n",
    "}\n",
    "\n",
    "xgb = XGBClassifier(random_state=42, eval_metric='logloss')\n",
    "grid = GridSearchCV(xgb, params, cv=5, scoring='accuracy', n_jobs=-1, verbose=1)\n",
    "grid.fit(X_train, y_train)\n",
    "\n",
    "best_xgb = grid.best_estimator_\n",
    "y_pred_best_xgb = best_xgb.predict(X_test)\n",
    "\n",
    "print(\"Best XGBoost Accuracy:\", accuracy_score(y_test, y_pred_best_xgb))\n",
    "print(grid.best_params_)"
   ]
  },
  {
   "cell_type": "code",
   "execution_count": null,
   "id": "e49780e5-322b-490b-aa4f-c66a29a98b2d",
   "metadata": {},
   "outputs": [],
   "source": [
    "results_df = pd.DataFrame({\n",
    "    'Model': ['Random Forest','XGBoost', 'XGBoost (Tuned)'],\n",
    "    'Accuracy': [accuracy_score(y_test, y_pred_rf),accuracy_score(y_test, y_pred_xgb),accuracy_score(y_test, y_pred_best_xgb)]\n",
    "})\n",
    "print(results_df)"
   ]
  },
  {
   "cell_type": "markdown",
   "id": "a564a593-1a83-49bf-9961-d0705c4bc784",
   "metadata": {},
   "source": [
    "# Final Model - Random Forest Classifier"
   ]
  },
  {
   "cell_type": "code",
   "execution_count": null,
   "id": "98eb677c-5925-4a2b-96f8-90e6155b8f37",
   "metadata": {},
   "outputs": [],
   "source": [
    "import joblib\n",
    "best_model = rf\n",
    "\n",
    "joblib.dump(best_model, \"liver_disease_model.pkl\")\n",
    "print(\"Model saved as liver_disease_model.pkl\")"
   ]
  },
  {
   "cell_type": "code",
   "execution_count": null,
   "id": "40570a3f-d56e-4d5d-a474-3b6ba4bb7087",
   "metadata": {},
   "outputs": [],
   "source": []
  }
 ],
 "metadata": {
  "kernelspec": {
   "display_name": "Python 3 (ipykernel)",
   "language": "python",
   "name": "python3"
  },
  "language_info": {
   "codemirror_mode": {
    "name": "ipython",
    "version": 3
   },
   "file_extension": ".py",
   "mimetype": "text/x-python",
   "name": "python",
   "nbconvert_exporter": "python",
   "pygments_lexer": "ipython3",
   "version": "3.12.4"
  }
 },
 "nbformat": 4,
 "nbformat_minor": 5
}
