{
 "cells": [
  {
   "cell_type": "code",
   "execution_count": 1,
   "id": "10bd31b0-aa08-4173-b303-8b217dd8093e",
   "metadata": {},
   "outputs": [
    {
     "name": "stdout",
     "output_type": "stream",
     "text": [
      "Cleaned column names: ['Age of the patient', 'Total Bilirubin', 'Direct Bilirubin', 'Alkphos Alkaline Phosphotase', 'Sgpt Alamine Aminotransferase', 'Sgot Aspartate Aminotransferase', 'Total Protiens', 'ALB Albumin', 'A/G Ratio Albumin and Globulin Ratio', 'Result', 'Gender']\n"
     ]
    },
    {
     "data": {
      "text/html": [
       "<div>\n",
       "<style scoped>\n",
       "    .dataframe tbody tr th:only-of-type {\n",
       "        vertical-align: middle;\n",
       "    }\n",
       "\n",
       "    .dataframe tbody tr th {\n",
       "        vertical-align: top;\n",
       "    }\n",
       "\n",
       "    .dataframe thead th {\n",
       "        text-align: right;\n",
       "    }\n",
       "</style>\n",
       "<table border=\"1\" class=\"dataframe\">\n",
       "  <thead>\n",
       "    <tr style=\"text-align: right;\">\n",
       "      <th></th>\n",
       "      <th>Age of the patient</th>\n",
       "      <th>Total Bilirubin</th>\n",
       "      <th>Direct Bilirubin</th>\n",
       "      <th>Alkphos Alkaline Phosphotase</th>\n",
       "      <th>Sgpt Alamine Aminotransferase</th>\n",
       "      <th>Sgot Aspartate Aminotransferase</th>\n",
       "      <th>Total Protiens</th>\n",
       "      <th>ALB Albumin</th>\n",
       "      <th>A/G Ratio Albumin and Globulin Ratio</th>\n",
       "      <th>Result</th>\n",
       "      <th>Gender</th>\n",
       "    </tr>\n",
       "  </thead>\n",
       "  <tbody>\n",
       "    <tr>\n",
       "      <th>0</th>\n",
       "      <td>1.287819</td>\n",
       "      <td>-0.422356</td>\n",
       "      <td>-0.488751</td>\n",
       "      <td>-0.421797</td>\n",
       "      <td>-0.354642</td>\n",
       "      <td>-0.330845</td>\n",
       "      <td>0.281269</td>\n",
       "      <td>0.203581</td>\n",
       "      <td>-0.143007</td>\n",
       "      <td>1</td>\n",
       "      <td>-1.577290</td>\n",
       "    </tr>\n",
       "    <tr>\n",
       "      <th>1</th>\n",
       "      <td>1.105494</td>\n",
       "      <td>1.267620</td>\n",
       "      <td>1.417009</td>\n",
       "      <td>1.748866</td>\n",
       "      <td>-0.086643</td>\n",
       "      <td>-0.034009</td>\n",
       "      <td>0.929662</td>\n",
       "      <td>0.076208</td>\n",
       "      <td>-0.645554</td>\n",
       "      <td>1</td>\n",
       "      <td>0.633999</td>\n",
       "    </tr>\n",
       "    <tr>\n",
       "      <th>2</th>\n",
       "      <td>1.105494</td>\n",
       "      <td>0.671158</td>\n",
       "      <td>0.922923</td>\n",
       "      <td>0.862794</td>\n",
       "      <td>-0.108976</td>\n",
       "      <td>-0.149847</td>\n",
       "      <td>0.466524</td>\n",
       "      <td>0.203581</td>\n",
       "      <td>-0.174416</td>\n",
       "      <td>1</td>\n",
       "      <td>0.633999</td>\n",
       "    </tr>\n",
       "    <tr>\n",
       "      <th>3</th>\n",
       "      <td>0.862394</td>\n",
       "      <td>-0.372651</td>\n",
       "      <td>-0.382875</td>\n",
       "      <td>-0.442995</td>\n",
       "      <td>-0.365808</td>\n",
       "      <td>-0.323605</td>\n",
       "      <td>0.281269</td>\n",
       "      <td>0.330954</td>\n",
       "      <td>0.171085</td>\n",
       "      <td>1</td>\n",
       "      <td>0.633999</td>\n",
       "    </tr>\n",
       "    <tr>\n",
       "      <th>4</th>\n",
       "      <td>1.713244</td>\n",
       "      <td>0.107832</td>\n",
       "      <td>0.181795</td>\n",
       "      <td>-0.387880</td>\n",
       "      <td>-0.293225</td>\n",
       "      <td>-0.182427</td>\n",
       "      <td>0.744407</td>\n",
       "      <td>-0.942775</td>\n",
       "      <td>-1.713467</td>\n",
       "      <td>1</td>\n",
       "      <td>0.633999</td>\n",
       "    </tr>\n",
       "  </tbody>\n",
       "</table>\n",
       "</div>"
      ],
      "text/plain": [
       "   Age of the patient  Total Bilirubin  Direct Bilirubin  \\\n",
       "0            1.287819        -0.422356         -0.488751   \n",
       "1            1.105494         1.267620          1.417009   \n",
       "2            1.105494         0.671158          0.922923   \n",
       "3            0.862394        -0.372651         -0.382875   \n",
       "4            1.713244         0.107832          0.181795   \n",
       "\n",
       "   Alkphos Alkaline Phosphotase  Sgpt Alamine Aminotransferase  \\\n",
       "0                     -0.421797                      -0.354642   \n",
       "1                      1.748866                      -0.086643   \n",
       "2                      0.862794                      -0.108976   \n",
       "3                     -0.442995                      -0.365808   \n",
       "4                     -0.387880                      -0.293225   \n",
       "\n",
       "   Sgot Aspartate Aminotransferase  Total Protiens  ALB Albumin  \\\n",
       "0                        -0.330845        0.281269     0.203581   \n",
       "1                        -0.034009        0.929662     0.076208   \n",
       "2                        -0.149847        0.466524     0.203581   \n",
       "3                        -0.323605        0.281269     0.330954   \n",
       "4                        -0.182427        0.744407    -0.942775   \n",
       "\n",
       "   A/G Ratio Albumin and Globulin Ratio  Result    Gender  \n",
       "0                             -0.143007       1 -1.577290  \n",
       "1                             -0.645554       1  0.633999  \n",
       "2                             -0.174416       1  0.633999  \n",
       "3                              0.171085       1  0.633999  \n",
       "4                             -1.713467       1  0.633999  "
      ]
     },
     "execution_count": 1,
     "metadata": {},
     "output_type": "execute_result"
    }
   ],
   "source": [
    "import pandas as pd\n",
    "import seaborn as sns\n",
    "\n",
    "df = pd.read_csv('../Datasets/preprocessed_liver_data.csv')\n",
    "df.columns = df.columns.str.strip()\n",
    "print(\"Cleaned column names:\", list(df.columns))\n",
    "df.head()"
   ]
  },
  {
   "cell_type": "code",
   "execution_count": 2,
   "id": "2ce26352-3e6d-4f1a-857b-915d35828408",
   "metadata": {},
   "outputs": [],
   "source": [
    "from sklearn.model_selection import train_test_split\n",
    "\n",
    "X = df.drop('Result', axis=1) \n",
    "y = df['Result']\n",
    "\n",
    "X_train, X_test, y_train, y_test = train_test_split(X, y, test_size=0.2, random_state=42, stratify=y)"
   ]
  },
  {
   "cell_type": "code",
   "execution_count": 3,
   "id": "1c3172ca-4982-4827-954d-154f42fe6ede",
   "metadata": {},
   "outputs": [
    {
     "name": "stdout",
     "output_type": "stream",
     "text": [
      "Training set distribution:\n",
      "Result\n",
      "1    11049\n",
      "0     4445\n",
      "Name: count, dtype: int64\n",
      "Result\n",
      "1    71.311475\n",
      "0    28.688525\n",
      "Name: count, dtype: float64\n",
      "\n",
      "Test set distribution:\n",
      "Result\n",
      "1    2762\n",
      "0    1112\n",
      "Name: count, dtype: int64\n",
      "Result\n",
      "1    71.295818\n",
      "0    28.704182\n",
      "Name: count, dtype: float64\n"
     ]
    }
   ],
   "source": [
    "# Check class distribution\n",
    "print(\"Training set distribution:\")\n",
    "print(y_train.value_counts())\n",
    "print((y_train.value_counts() / len(y_train)) * 100)\n",
    "\n",
    "print(\"\\nTest set distribution:\")\n",
    "print(y_test.value_counts())\n",
    "print((y_test.value_counts() / len(y_test)) * 100)\n"
   ]
  },
  {
   "cell_type": "markdown",
   "id": "4c3531a7-12ac-4acb-a1cd-5495e6f30a24",
   "metadata": {},
   "source": [
    "# Class Balancing and SMOTE"
   ]
  },
  {
   "cell_type": "code",
   "execution_count": 4,
   "id": "0c8ac01c-4062-4e89-8144-d34e635c3feb",
   "metadata": {},
   "outputs": [
    {
     "name": "stdout",
     "output_type": "stream",
     "text": [
      "Before SMOTE: Result\n",
      "1    11049\n",
      "0     4445\n",
      "Name: count, dtype: int64\n",
      "After SMOTE: Result\n",
      "1    11049\n",
      "0    11049\n",
      "Name: count, dtype: int64\n"
     ]
    }
   ],
   "source": [
    "from imblearn.over_sampling import SMOTE\n",
    "\n",
    "# Check class distribution before balancing\n",
    "print(\"Before SMOTE:\", y_train.value_counts())\n",
    "\n",
    "# Apply SMOTE only on training data\n",
    "smote = SMOTE(random_state=42)\n",
    "X_train_bal, y_train_bal = smote.fit_resample(X_train, y_train)\n",
    "\n",
    "print(\"After SMOTE:\", y_train_bal.value_counts())"
   ]
  },
  {
   "cell_type": "markdown",
   "id": "40dd6cf6-6390-4cdd-9cdf-ef3e3f368b7e",
   "metadata": {},
   "source": [
    "# Training Random Forest Classifier"
   ]
  },
  {
   "cell_type": "code",
   "execution_count": 5,
   "id": "73091fa1-2dc7-475a-93a0-72f1eb6dbbe4",
   "metadata": {},
   "outputs": [
    {
     "name": "stdout",
     "output_type": "stream",
     "text": [
      "Random Forest Accuracy: 0.9971605575632422\n",
      "              precision    recall  f1-score   support\n",
      "\n",
      "           0       0.99      1.00      1.00      1112\n",
      "           1       1.00      1.00      1.00      2762\n",
      "\n",
      "    accuracy                           1.00      3874\n",
      "   macro avg       1.00      1.00      1.00      3874\n",
      "weighted avg       1.00      1.00      1.00      3874\n",
      "\n",
      "\n",
      "Confusion Matrix (Random Forest):\n",
      " [[1108    4]\n",
      " [   7 2755]]\n"
     ]
    }
   ],
   "source": [
    "from sklearn.ensemble import RandomForestClassifier\n",
    "from sklearn.metrics import accuracy_score, classification_report, confusion_matrix\n",
    "\n",
    "rf = RandomForestClassifier(random_state=42, class_weight='balanced')\n",
    "rf.fit(X_train_bal, y_train_bal)\n",
    "\n",
    "y_pred_rf = rf.predict(X_test)\n",
    "\n",
    "print(\"Random Forest Accuracy:\", accuracy_score(y_test, y_pred_rf))\n",
    "print(classification_report(y_test, y_pred_rf))\n",
    "print(\"\\nConfusion Matrix (Random Forest):\\n\", confusion_matrix(y_test, y_pred_rf))"
   ]
  },
  {
   "cell_type": "code",
   "execution_count": 6,
   "id": "9d4d5875-fc9f-404e-a567-8da1fa3a3911",
   "metadata": {},
   "outputs": [
    {
     "data": {
      "text/plain": [
       "<Axes: >"
      ]
     },
     "execution_count": 6,
     "metadata": {},
     "output_type": "execute_result"
    },
    {
     "data": {
      "image/png": "[encoded data removed]",
      "text/plain": [
       "<Figure size 640x480 with 2 Axes>"
      ]
     },
     "metadata": {},
     "output_type": "display_data"
    }
   ],
   "source": [
    "sns.heatmap(confusion_matrix(y_test,y_pred_rf),annot=True,fmt=\"d\")"
   ]
  },
  {
   "cell_type": "markdown",
   "id": "70ac1dd9-27cf-43e9-a725-0db54cbcc3ef",
   "metadata": {},
   "source": [
    "# Training XGBoost Classifier"
   ]
  },
  {
   "cell_type": "code",
   "execution_count": 7,
   "id": "e14290e7-7228-45fa-b379-9e852af6fc6c",
   "metadata": {},
   "outputs": [
    {
     "name": "stdout",
     "output_type": "stream",
     "text": [
      "XGBoost Accuracy: 0.9971605575632422\n",
      "\n",
      "Classification Report (XGBoost):\n",
      "               precision    recall  f1-score   support\n",
      "\n",
      "           0       1.00      0.99      1.00      1112\n",
      "           1       1.00      1.00      1.00      2762\n",
      "\n",
      "    accuracy                           1.00      3874\n",
      "   macro avg       1.00      1.00      1.00      3874\n",
      "weighted avg       1.00      1.00      1.00      3874\n",
      "\n",
      "\n",
      "Confusion Matrix (XGBoost):\n",
      " [[1106    6]\n",
      " [   5 2757]]\n"
     ]
    }
   ],
   "source": [
    "from xgboost import XGBClassifier\n",
    "\n",
    "xgb = XGBClassifier(random_state=42, scale_pos_weight=1, eval_metric='logloss')\n",
    "xgb.fit(X_train_bal, y_train_bal)\n",
    "\n",
    "y_pred_xgb = xgb.predict(X_test)\n",
    "\n",
    "print(\"XGBoost Accuracy:\", accuracy_score(y_test, y_pred_xgb))\n",
    "print(\"\\nClassification Report (XGBoost):\\n\", classification_report(y_test, y_pred_xgb))\n",
    "print(\"\\nConfusion Matrix (XGBoost):\\n\", confusion_matrix(y_test, y_pred_xgb))"
   ]
  },
  {
   "cell_type": "code",
   "execution_count": 8,
   "id": "0d381888-217d-465d-9c92-0038c2be34d8",
   "metadata": {},
   "outputs": [
    {
     "data": {
      "text/plain": [
       "<Axes: >"
      ]
     },
     "execution_count": 8,
     "metadata": {},
     "output_type": "execute_result"
    },
    {
     "data": {
      "image/png": "[encoded data removed]",
      "text/plain": [
       "<Figure size 640x480 with 2 Axes>"
      ]
     },
     "metadata": {},
     "output_type": "display_data"
    }
   ],
   "source": [
    "sns.heatmap(confusion_matrix(y_test,y_pred_xgb),annot=True,fmt=\"d\")"
   ]
  },
  {
   "cell_type": "markdown",
   "id": "9a56e46f-c22d-44f2-8274-2dfa06f73fcc",
   "metadata": {},
   "source": [
    "# Tuning Hyperparameters"
   ]
  },
  {
   "cell_type": "code",
   "execution_count": 9,
   "id": "821fe8dc-9f6c-4904-88c6-ed3a6bf6c809",
   "metadata": {},
   "outputs": [
    {
     "name": "stdout",
     "output_type": "stream",
     "text": [
      "Fitting 5 folds for each of 108 candidates, totalling 540 fits\n",
      "Best XGBoost Accuracy: 0.996386164171399\n",
      "{'colsample_bytree': 1.0, 'learning_rate': 0.1, 'max_depth': 5, 'n_estimators': 300, 'subsample': 0.8}\n"
     ]
    }
   ],
   "source": [
    "from xgboost import XGBClassifier\n",
    "from sklearn.model_selection import GridSearchCV\n",
    "\n",
    "params = {\n",
    "    'n_estimators': [100, 200, 300],\n",
    "    'max_depth': [3, 4, 5],\n",
    "    'learning_rate': [0.01, 0.05, 0.1],\n",
    "    'subsample': [0.8, 1.0],\n",
    "    'colsample_bytree': [0.8, 1.0]\n",
    "}\n",
    "\n",
    "xgb = XGBClassifier(random_state=42, scale_pos_weight=1, eval_metric='logloss')\n",
    "grid = GridSearchCV(xgb, params, cv=5, scoring='accuracy', n_jobs=-1, verbose=1)\n",
    "grid.fit(X_train_bal, y_train_bal)\n",
    "\n",
    "best_xgb = grid.best_estimator_\n",
    "y_pred_best_xgb = best_xgb.predict(X_test)\n",
    "\n",
    "print(\"Best XGBoost Accuracy:\", accuracy_score(y_test, y_pred_best_xgb))\n",
    "print(grid.best_params_)"
   ]
  },
  {
   "cell_type": "code",
   "execution_count": 10,
   "id": "e49780e5-322b-490b-aa4f-c66a29a98b2d",
   "metadata": {},
   "outputs": [
    {
     "name": "stdout",
     "output_type": "stream",
     "text": [
      "             Model  Accuracy\n",
      "0    Random Forest  0.997161\n",
      "1          XGBoost  0.997161\n",
      "2  XGBoost (Tuned)  0.996386\n"
     ]
    }
   ],
   "source": [
    "results_df = pd.DataFrame({\n",
    "    'Model': ['Random Forest','XGBoost', 'XGBoost (Tuned)'],\n",
    "    'Accuracy': [accuracy_score(y_test, y_pred_rf),accuracy_score(y_test, y_pred_xgb),accuracy_score(y_test, y_pred_best_xgb)]\n",
    "})\n",
    "print(results_df)"
   ]
  },
  {
   "cell_type": "markdown",
   "id": "a564a593-1a83-49bf-9961-d0705c4bc784",
   "metadata": {},
   "source": [
    "# Final Model - Random Forest Classifier"
   ]
  },
  {
   "cell_type": "code",
   "execution_count": 11,
   "id": "98eb677c-5925-4a2b-96f8-90e6155b8f37",
   "metadata": {},
   "outputs": [
    {
     "name": "stdout",
     "output_type": "stream",
     "text": [
      "Pipeline saved as rf_pipeline.pkl\n"
     ]
    }
   ],
   "source": [
    "from sklearn.pipeline import Pipeline\n",
    "from sklearn.preprocessing import StandardScaler\n",
    "from sklearn.ensemble import RandomForestClassifier\n",
    "import joblib\n",
    "\n",
    "# Re-create and re-train pipeline\n",
    "pipe = Pipeline([\n",
    "    ('scaler', StandardScaler()),\n",
    "    ('rf', RandomForestClassifier(\n",
    "        class_weight=\"balanced\",\n",
    "        n_estimators=200,\n",
    "        random_state=42))\n",
    "])\n",
    "\n",
    "pipe.fit(X_train_bal, y_train_bal)\n",
    "\n",
    "# Save pipeline\n",
    "joblib.dump(pipe, \"rf_pipeline.pkl\")\n",
    "print(\"Pipeline saved as rf_pipeline.pkl\")"
   ]
  },
  {
   "cell_type": "code",
   "execution_count": null,
   "id": "40570a3f-d56e-4d5d-a474-3b6ba4bb7087",
   "metadata": {},
   "outputs": [],
   "source": []
  }
 ],
 "metadata": {
  "kernelspec": {
   "display_name": "Python 3 (ipykernel)",
   "language": "python",
   "name": "python3"
  },
  "language_info": {
   "codemirror_mode": {
    "name": "ipython",
    "version": 3
   },
   "file_extension": ".py",
   "mimetype": "text/x-python",
   "name": "python",
   "nbconvert_exporter": "python",
   "pygments_lexer": "ipython3",
   "version": "3.12.4"
  }
 },
 "nbformat": 4,
 "nbformat_minor": 5
}
