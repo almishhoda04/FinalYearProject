{
 "cells": [
  {
   "cell_type": "code",
   "execution_count": 19,
   "id": "10bd31b0-aa08-4173-b303-8b217dd8093e",
   "metadata": {},
   "outputs": [
    {
     "data": {
      "text/html": [
       "<div>\n",
       "<style scoped>\n",
       "    .dataframe tbody tr th:only-of-type {\n",
       "        vertical-align: middle;\n",
       "    }\n",
       "\n",
       "    .dataframe tbody tr th {\n",
       "        vertical-align: top;\n",
       "    }\n",
       "\n",
       "    .dataframe thead th {\n",
       "        text-align: right;\n",
       "    }\n",
       "</style>\n",
       "<table border=\"1\" class=\"dataframe\">\n",
       "  <thead>\n",
       "    <tr style=\"text-align: right;\">\n",
       "      <th></th>\n",
       "      <th>Age of the patient</th>\n",
       "      <th>Total Bilirubin</th>\n",
       "      <th>Direct Bilirubin</th>\n",
       "      <th>Alkphos Alkaline Phosphotase</th>\n",
       "      <th>Sgpt Alamine Aminotransferase</th>\n",
       "      <th>Sgot Aspartate Aminotransferase</th>\n",
       "      <th>Total Protiens</th>\n",
       "      <th>ALB Albumin</th>\n",
       "      <th>A/G Ratio Albumin and Globulin Ratio</th>\n",
       "      <th>Result</th>\n",
       "      <th>Gender</th>\n",
       "    </tr>\n",
       "  </thead>\n",
       "  <tbody>\n",
       "    <tr>\n",
       "      <th>0</th>\n",
       "      <td>65.0</td>\n",
       "      <td>0.7</td>\n",
       "      <td>0.1</td>\n",
       "      <td>187.0</td>\n",
       "      <td>16.0</td>\n",
       "      <td>18.0</td>\n",
       "      <td>6.8</td>\n",
       "      <td>3.3</td>\n",
       "      <td>0.90</td>\n",
       "      <td>1</td>\n",
       "      <td>0.0</td>\n",
       "    </tr>\n",
       "    <tr>\n",
       "      <th>1</th>\n",
       "      <td>62.0</td>\n",
       "      <td>5.3</td>\n",
       "      <td>2.7</td>\n",
       "      <td>467.0</td>\n",
       "      <td>64.0</td>\n",
       "      <td>100.0</td>\n",
       "      <td>7.5</td>\n",
       "      <td>3.2</td>\n",
       "      <td>0.74</td>\n",
       "      <td>1</td>\n",
       "      <td>1.0</td>\n",
       "    </tr>\n",
       "    <tr>\n",
       "      <th>2</th>\n",
       "      <td>62.0</td>\n",
       "      <td>5.3</td>\n",
       "      <td>2.7</td>\n",
       "      <td>467.0</td>\n",
       "      <td>60.0</td>\n",
       "      <td>68.0</td>\n",
       "      <td>7.0</td>\n",
       "      <td>3.3</td>\n",
       "      <td>0.89</td>\n",
       "      <td>1</td>\n",
       "      <td>1.0</td>\n",
       "    </tr>\n",
       "    <tr>\n",
       "      <th>3</th>\n",
       "      <td>58.0</td>\n",
       "      <td>1.0</td>\n",
       "      <td>0.4</td>\n",
       "      <td>182.0</td>\n",
       "      <td>14.0</td>\n",
       "      <td>20.0</td>\n",
       "      <td>6.8</td>\n",
       "      <td>3.4</td>\n",
       "      <td>1.00</td>\n",
       "      <td>1</td>\n",
       "      <td>1.0</td>\n",
       "    </tr>\n",
       "    <tr>\n",
       "      <th>4</th>\n",
       "      <td>72.0</td>\n",
       "      <td>3.9</td>\n",
       "      <td>2.0</td>\n",
       "      <td>195.0</td>\n",
       "      <td>27.0</td>\n",
       "      <td>59.0</td>\n",
       "      <td>7.3</td>\n",
       "      <td>2.4</td>\n",
       "      <td>0.40</td>\n",
       "      <td>1</td>\n",
       "      <td>1.0</td>\n",
       "    </tr>\n",
       "  </tbody>\n",
       "</table>\n",
       "</div>"
      ],
      "text/plain": [
       "   Age of the patient  Total Bilirubin  Direct Bilirubin  \\\n",
       "0                65.0              0.7               0.1   \n",
       "1                62.0              5.3               2.7   \n",
       "2                62.0              5.3               2.7   \n",
       "3                58.0              1.0               0.4   \n",
       "4                72.0              3.9               2.0   \n",
       "\n",
       "   Alkphos Alkaline Phosphotase  Sgpt Alamine Aminotransferase  \\\n",
       "0                         187.0                           16.0   \n",
       "1                         467.0                           64.0   \n",
       "2                         467.0                           60.0   \n",
       "3                         182.0                           14.0   \n",
       "4                         195.0                           27.0   \n",
       "\n",
       "   Sgot Aspartate Aminotransferase  Total Protiens  ALB Albumin  \\\n",
       "0                             18.0             6.8          3.3   \n",
       "1                            100.0             7.5          3.2   \n",
       "2                             68.0             7.0          3.3   \n",
       "3                             20.0             6.8          3.4   \n",
       "4                             59.0             7.3          2.4   \n",
       "\n",
       "   A/G Ratio Albumin and Globulin Ratio  Result  Gender  \n",
       "0                                  0.90       1     0.0  \n",
       "1                                  0.74       1     1.0  \n",
       "2                                  0.89       1     1.0  \n",
       "3                                  1.00       1     1.0  \n",
       "4                                  0.40       1     1.0  "
      ]
     },
     "execution_count": 19,
     "metadata": {},
     "output_type": "execute_result"
    }
   ],
   "source": [
    "import pandas as pd\n",
    "import seaborn as sns\n",
    "import matplotlib.pyplot as plt\n",
    "from imblearn.over_sampling import SMOTE\n",
    "from sklearn.pipeline import Pipeline\n",
    "from sklearn.ensemble import RandomForestClassifier\n",
    "from sklearn.metrics import accuracy_score, classification_report, confusion_matrix\n",
    "from sklearn.metrics import roc_auc_score, roc_curve, accuracy_score, precision_score, recall_score, f1_score\n",
    "import joblib\n",
    "\n",
    "df = pd.read_csv('../Datasets/preprocessed_liver_data.csv')\n",
    "df.head()"
   ]
  },
  {
   "cell_type": "code",
   "execution_count": 20,
   "id": "2ce26352-3e6d-4f1a-857b-915d35828408",
   "metadata": {},
   "outputs": [],
   "source": [
    "from sklearn.model_selection import train_test_split\n",
    "\n",
    "X = df.drop('Result', axis=1) \n",
    "y = df['Result']\n",
    "\n",
    "X_train, X_test, y_train, y_test = train_test_split(X, y, test_size=0.2, random_state=42, stratify=y)"
   ]
  },
  {
   "cell_type": "code",
   "execution_count": 21,
   "id": "1c3172ca-4982-4827-954d-154f42fe6ede",
   "metadata": {},
   "outputs": [
    {
     "name": "stdout",
     "output_type": "stream",
     "text": [
      "Training set distribution:\n",
      "Result\n",
      "1    11049\n",
      "0     4445\n",
      "Name: count, dtype: int64\n",
      "Result\n",
      "1    71.311475\n",
      "0    28.688525\n",
      "Name: count, dtype: float64\n",
      "\n",
      "Test set distribution:\n",
      "Result\n",
      "1    2762\n",
      "0    1112\n",
      "Name: count, dtype: int64\n",
      "Result\n",
      "1    71.295818\n",
      "0    28.704182\n",
      "Name: count, dtype: float64\n"
     ]
    }
   ],
   "source": [
    "# Check class distribution\n",
    "print(\"Training set distribution:\")\n",
    "print(y_train.value_counts())\n",
    "print((y_train.value_counts() / len(y_train)) * 100)\n",
    "\n",
    "print(\"\\nTest set distribution:\")\n",
    "print(y_test.value_counts())\n",
    "print((y_test.value_counts() / len(y_test)) * 100)\n"
   ]
  },
  {
   "cell_type": "markdown",
   "id": "4c3531a7-12ac-4acb-a1cd-5495e6f30a24",
   "metadata": {},
   "source": [
    "# SMOTE- Synthetic Minority Over-sampling Technique"
   ]
  },
  {
   "cell_type": "code",
   "execution_count": 22,
   "id": "0c8ac01c-4062-4e89-8144-d34e635c3feb",
   "metadata": {},
   "outputs": [
    {
     "name": "stdout",
     "output_type": "stream",
     "text": [
      "Before SMOTE: Result\n",
      "1    11049\n",
      "0     4445\n",
      "Name: count, dtype: int64\n",
      "After SMOTE: Result\n",
      "1    11049\n",
      "0    11049\n",
      "Name: count, dtype: int64\n"
     ]
    }
   ],
   "source": [
    "# Check class distribution before balancing\n",
    "print(\"Before SMOTE:\", y_train.value_counts())\n",
    "# Apply SMOTE only on training data\n",
    "smote = SMOTE(random_state=42)\n",
    "X_train_bal, y_train_bal = smote.fit_resample(X_train, y_train)\n",
    "print(\"After SMOTE:\", y_train_bal.value_counts())"
   ]
  },
  {
   "cell_type": "markdown",
   "id": "40dd6cf6-6390-4cdd-9cdf-ef3e3f368b7e",
   "metadata": {},
   "source": [
    "# Training Random Forest Classifier"
   ]
  },
  {
   "cell_type": "code",
   "execution_count": 26,
   "id": "73091fa1-2dc7-475a-93a0-72f1eb6dbbe4",
   "metadata": {},
   "outputs": [
    {
     "name": "stdout",
     "output_type": "stream",
     "text": [
      "Random Forest Accuracy: 0.9976768198244709\n",
      "\n",
      "Classification Report:\n",
      "               precision    recall  f1-score   support\n",
      "\n",
      "           0       1.00      0.99      1.00      1112\n",
      "           1       1.00      1.00      1.00      2762\n",
      "\n",
      "    accuracy                           1.00      3874\n",
      "   macro avg       1.00      1.00      1.00      3874\n",
      "weighted avg       1.00      1.00      1.00      3874\n",
      "\n",
      "\n",
      "Confusion Matrix:\n",
      " [[1105    7]\n",
      " [   2 2760]]\n"
     ]
    }
   ],
   "source": [
    "rf = RandomForestClassifier(random_state = 42)\n",
    "\n",
    "rf.fit(X_train_bal, y_train_bal)\n",
    "\n",
    "y_pred_rf = rf.predict(X_test)\n",
    "\n",
    "print(\"Random Forest Accuracy:\", accuracy_score(y_test, y_pred_rf))\n",
    "print(\"\\nClassification Report:\\n\", classification_report(y_test, y_pred_rf))\n",
    "print(\"\\nConfusion Matrix:\\n\", confusion_matrix(y_test, y_pred_rf))"
   ]
  },
  {
   "cell_type": "code",
   "execution_count": 29,
   "id": "337f702f-425f-46b2-8b4a-28f28353ec57",
   "metadata": {},
   "outputs": [],
   "source": [
    "y_pred_proba = rf.predict_proba(X_test)[:, 1] "
   ]
  },
  {
   "cell_type": "code",
   "execution_count": 36,
   "id": "e17cddba-d9ac-459e-8fee-4b7c8f737d55",
   "metadata": {},
   "outputs": [
    {
     "name": "stdout",
     "output_type": "stream",
     "text": [
      "ROC-AUC Score: 0.9994202863632338\n"
     ]
    }
   ],
   "source": [
    "#ROC Score\n",
    "roc_auc = roc_auc_score(y_test, y_pred_proba)\n",
    "print(\"ROC-AUC Score:\", roc_auc)"
   ]
  },
  {
   "cell_type": "code",
   "execution_count": 37,
   "id": "aae6cde1-08b3-4177-9c4f-9cae031de7fa",
   "metadata": {},
   "outputs": [
    {
     "data": {
      "image/png": "[encoded data removed]",
      "text/plain": [
       "<Figure size 600x400 with 1 Axes>"
      ]
     },
     "metadata": {},
     "output_type": "display_data"
    }
   ],
   "source": [
    "# ROC Curve\n",
    "fpr, tpr, thresholds = roc_curve(y_test, y_pred_proba)\n",
    "plt.figure(figsize=(6,4))\n",
    "plt.plot(fpr, tpr, label=f'Random Forest (AUC = {roc_auc:.2f})', color='blue')\n",
    "plt.plot([0,1],[0,1],'--', color='gray')\n",
    "plt.xlabel('False Positive Rate')\n",
    "plt.ylabel('True Positive Rate')\n",
    "plt.title('ROC Curve')\n",
    "plt.legend()\n",
    "plt.show()"
   ]
  },
  {
   "cell_type": "markdown",
   "id": "a564a593-1a83-49bf-9961-d0705c4bc784",
   "metadata": {},
   "source": [
    "# Final Model - Random Forest Classifier"
   ]
  },
  {
   "cell_type": "code",
   "execution_count": 38,
   "id": "98eb677c-5925-4a2b-96f8-90e6155b8f37",
   "metadata": {},
   "outputs": [
    {
     "name": "stdout",
     "output_type": "stream",
     "text": [
      "Model saved as rf_model.joblib\n"
     ]
    }
   ],
   "source": [
    "joblib.dump(rf, \"rf_model.joblib\")\n",
    "print(\"Model saved as rf_model.joblib\")"
   ]
  },
  {
   "cell_type": "code",
   "execution_count": null,
   "id": "40570a3f-d56e-4d5d-a474-3b6ba4bb7087",
   "metadata": {},
   "outputs": [],
   "source": []
  }
 ],
 "metadata": {
  "kernelspec": {
   "display_name": "Python 3 (ipykernel)",
   "language": "python",
   "name": "python3"
  },
  "language_info": {
   "codemirror_mode": {
    "name": "ipython",
    "version": 3
   },
   "file_extension": ".py",
   "mimetype": "text/x-python",
   "name": "python",
   "nbconvert_exporter": "python",
   "pygments_lexer": "ipython3",
   "version": "3.12.4"
  }
 },
 "nbformat": 4,
 "nbformat_minor": 5
}
